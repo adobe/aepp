{
 "cells": [
  {
   "cell_type": "markdown",
   "id": "af087c54",
   "metadata": {
    "toc": true
   },
   "source": [
    "<h1>Table of Contents<span class=\"tocSkip\"></span></h1>\n",
    "<div class=\"toc\"><ul class=\"toc-item\"><li><span><a href=\"#The-Catalog-Service-API\" data-toc-modified-id=\"The-Catalog-Service-API-1\"><span class=\"toc-item-num\">1&nbsp;&nbsp;</span>The Catalog Service API</a></span></li></ul></div>"
   ]
  },
  {
   "cell_type": "code",
   "execution_count": 1,
   "id": "b4ba6550",
   "metadata": {
    "ExecuteTime": {
     "end_time": "2024-02-07T07:23:08.719413Z",
     "start_time": "2024-02-07T07:23:07.165403Z"
    }
   },
   "outputs": [],
   "source": [
    "import aepp\n",
    "from aepp import catalog"
   ]
  },
  {
   "cell_type": "markdown",
   "id": "c09db02e",
   "metadata": {},
   "source": [
    "# The Catalog Service API"
   ]
  },
  {
   "cell_type": "markdown",
   "id": "1c2c5c6d",
   "metadata": {},
   "source": [
    "The Catalog API is a service that would help investigating the data lake catalog that is available.\\\n",
    "In the Catalog API, you can access the datasets or the batches that are ingested in your organization.\\\n",
    "Catalog is the system of record for data location and lineage within Adobe Experience Platform.\\ Catalog Service does not contain the actual files or directories that contain the data. Instead, it holds the metadata and description of those files and directories.\n",
    "\n",
    "Catalog acts as a metadata store or \"catalog\" where you can find information about your data within Experience Platform.\n",
    "\n",
    "Use Catalog to answer the following questions: \n",
    "* Where is my data located? \n",
    "* At what stage of processing is this data? \n",
    "* What systems or processes have acted on my data? \n",
    "* What errors occurred during processing? \n",
    "* If successful, how much data was processed?"
   ]
  },
  {
   "cell_type": "code",
   "execution_count": null,
   "id": "e27c8bbb",
   "metadata": {},
   "outputs": [],
   "source": []
  }
 ],
 "metadata": {
  "kernelspec": {
   "display_name": "Python 3 (ipykernel)",
   "language": "python",
   "name": "python3"
  },
  "language_info": {
   "codemirror_mode": {
    "name": "ipython",
    "version": 3
   },
   "file_extension": ".py",
   "mimetype": "text/x-python",
   "name": "python",
   "nbconvert_exporter": "python",
   "pygments_lexer": "ipython3",
   "version": "3.11.4"
  },
  "toc": {
   "base_numbering": 1,
   "nav_menu": {},
   "number_sections": true,
   "sideBar": true,
   "skip_h1_title": false,
   "title_cell": "Table of Contents",
   "title_sidebar": "Contents",
   "toc_cell": true,
   "toc_position": {},
   "toc_section_display": true,
   "toc_window_display": true
  }
 },
 "nbformat": 4,
 "nbformat_minor": 5
}

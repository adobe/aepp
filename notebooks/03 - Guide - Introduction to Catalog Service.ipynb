{
 "cells": [
  {
   "cell_type": "markdown",
   "id": "6fa41742",
   "metadata": {
    "toc": true
   },
   "source": [
    "<h1>Table of Contents<span class=\"tocSkip\"></span></h1>\n",
    "<div class=\"toc\"><ul class=\"toc-item\"><li><span><a href=\"#The-Catalog-Service-API\" data-toc-modified-id=\"The-Catalog-Service-API-1\"><span class=\"toc-item-num\">1&nbsp;&nbsp;</span>The Catalog Service API</a></span></li><li><span><a href=\"#Importing-the-configuration-file\" data-toc-modified-id=\"Importing-the-configuration-file-2\"><span class=\"toc-item-num\">2&nbsp;&nbsp;</span>Importing the configuration file</a></span></li><li><span><a href=\"#Catalog-Module\" data-toc-modified-id=\"Catalog-Module-3\"><span class=\"toc-item-num\">3&nbsp;&nbsp;</span>Catalog Module</a></span></li><li><span><a href=\"#Get-Datasets\" data-toc-modified-id=\"Get-Datasets-4\"><span class=\"toc-item-num\">4&nbsp;&nbsp;</span>Get Datasets</a></span></li><li><span><a href=\"#Get-batches\" data-toc-modified-id=\"Get-batches-5\"><span class=\"toc-item-num\">5&nbsp;&nbsp;</span>Get batches</a></span></li><li><span><a href=\"#Get-Observable-Schema\" data-toc-modified-id=\"Get-Observable-Schema-6\"><span class=\"toc-item-num\">6&nbsp;&nbsp;</span>Get Observable Schema</a></span><ul class=\"toc-item\"><li><span><a href=\"#Observable-Schema-Manager\" data-toc-modified-id=\"Observable-Schema-Manager-6.1\"><span class=\"toc-item-num\">6.1&nbsp;&nbsp;</span>Observable Schema Manager</a></span></li></ul></li><li><span><a href=\"#Extracting-Batch-data\" data-toc-modified-id=\"Extracting-Batch-data-7\"><span class=\"toc-item-num\">7&nbsp;&nbsp;</span>Extracting Batch data</a></span></li></ul></div>"
   ]
  },
  {
   "cell_type": "code",
   "execution_count": 1,
   "id": "79f8495e",
   "metadata": {
    "ExecuteTime": {
     "end_time": "2024-02-07T07:23:08.719413Z",
     "start_time": "2024-02-07T07:23:07.165403Z"
    }
   },
   "outputs": [],
   "source": [
    "import aepp\n",
    "from aepp import catalog"
   ]
  },
  {
   "cell_type": "markdown",
   "id": "958ed2e5",
   "metadata": {},
   "source": [
    "# The Catalog Service API"
   ]
  },
  {
   "cell_type": "markdown",
   "id": "209ed72b",
   "metadata": {},
   "source": [
    "The Catalog API is a service that would help investigating the data lake catalog that is available.\\\n",
    "In the Catalog API, you can access the datasets or the batches that are ingested in your organization.\\\n",
    "Catalog is the system of record for data location and lineage within Adobe Experience Platform.\\ Catalog Service does not contain the actual files or directories that contain the data. Instead, it holds the metadata and description of those files and directories.\n",
    "\n",
    "Catalog acts as a metadata store or \"catalog\" where you can find information about your data within Experience Platform.\n",
    "\n",
    "Use Catalog to answer the following questions: \n",
    "* Where is my data located? \n",
    "* At what stage of processing is this data? \n",
    "* What systems or processes have acted on my data? \n",
    "* What errors occurred during processing? \n",
    "* If successful, how much data was processed?"
   ]
  },
  {
   "cell_type": "markdown",
   "id": "5ffd535c",
   "metadata": {},
   "source": [
    "# Importing the configuration file"
   ]
  },
  {
   "cell_type": "markdown",
   "id": "da6184e5",
   "metadata": {},
   "source": [
    "The complete explanation on how to prepare the config file the can be found on the first template of this serie.\\\n",
    "If you want to understand how you can prepare the file used, you can either read the first template of this serie, or read the [getting started](https://github.com/adobe/aepp/blob/main/docs/getting-started.md) page of the aepp module in github."
   ]
  },
  {
   "cell_type": "code",
   "execution_count": 2,
   "id": "78670d15",
   "metadata": {
    "ExecuteTime": {
     "end_time": "2024-02-07T12:03:22.055308Z",
     "start_time": "2024-02-07T12:03:22.032343Z"
    }
   },
   "outputs": [],
   "source": [
    "import aepp\n",
    "prod = aepp.importConfigFile('myconfigFile.json',sandbox='prod',connectInstance=True)"
   ]
  },
  {
   "cell_type": "markdown",
   "id": "5809e5b5",
   "metadata": {},
   "source": [
    "# Catalog Module"
   ]
  },
  {
   "cell_type": "markdown",
   "id": "f276a9d0",
   "metadata": {},
   "source": [
    "You can instantiate the `Catalog` module with the config parameter once you have loaded your configuration. "
   ]
  },
  {
   "cell_type": "code",
   "execution_count": 3,
   "id": "70b49ea0",
   "metadata": {
    "ExecuteTime": {
     "end_time": "2024-02-07T12:04:44.507080Z",
     "start_time": "2024-02-07T12:04:44.502430Z"
    }
   },
   "outputs": [],
   "source": [
    "from aepp import catalog"
   ]
  },
  {
   "cell_type": "markdown",
   "id": "288e8841",
   "metadata": {},
   "source": [
    "Each sub module has a class to instantiate in order to create the API connection with the service, in this case, the Catalog API. The instantiation will generate a token for the API connection and takes care of generating a new one if needed.\\\n",
    "It will also connect you with the API in the sandbox provided in the config file, or in the variable used during the import of the config file (can be seen in this example). "
   ]
  },
  {
   "cell_type": "code",
   "execution_count": 4,
   "id": "5fa1ed08",
   "metadata": {
    "ExecuteTime": {
     "end_time": "2024-02-07T12:10:20.047305Z",
     "start_time": "2024-02-07T12:09:58.209042Z"
    }
   },
   "outputs": [],
   "source": [
    "myCatalog = catalog.Catalog(config=prod)"
   ]
  },
  {
   "cell_type": "markdown",
   "id": "e1114479",
   "metadata": {},
   "source": [
    "The class has several data attribute that can be useful to you.\n",
    "* sandbox : It will provide you which sandbox is connected to this instance\n",
    "* header : In case you want to copy the header to other application (ex: POSTMAN)\n",
    "* data : it will provide some dictionaries once you have ran the `getDatasets()` method"
   ]
  },
  {
   "cell_type": "code",
   "execution_count": 5,
   "id": "528c4ac6",
   "metadata": {
    "ExecuteTime": {
     "end_time": "2024-02-07T12:10:38.428687Z",
     "start_time": "2024-02-07T12:10:38.421748Z"
    }
   },
   "outputs": [
    {
     "data": {
      "text/plain": [
       "'prod'"
      ]
     },
     "execution_count": 5,
     "metadata": {},
     "output_type": "execute_result"
    }
   ],
   "source": [
    "myCatalog.sandbox"
   ]
  },
  {
   "cell_type": "markdown",
   "id": "b0d83d8a",
   "metadata": {},
   "source": [
    "# Get Datasets"
   ]
  },
  {
   "cell_type": "markdown",
   "id": "8cb207aa",
   "metadata": {},
   "source": [
    "One use-case from the Catalog API is to retrieve the list of datasets.\\\n",
    "You can realize this task by using the `getDatasets` method."
   ]
  },
  {
   "cell_type": "code",
   "execution_count": 7,
   "id": "a176a3f8",
   "metadata": {
    "ExecuteTime": {
     "end_time": "2024-02-07T12:15:38.076991Z",
     "start_time": "2024-02-07T12:15:35.389195Z"
    }
   },
   "outputs": [],
   "source": [
    "mydatasets = myCatalog.getDataSets()"
   ]
  },
  {
   "cell_type": "code",
   "execution_count": 8,
   "id": "00c4d8e2",
   "metadata": {
    "ExecuteTime": {
     "end_time": "2024-02-07T12:15:41.129654Z",
     "start_time": "2024-02-07T12:15:41.124667Z"
    }
   },
   "outputs": [
    {
     "data": {
      "text/plain": [
       "155"
      ]
     },
     "execution_count": 8,
     "metadata": {},
     "output_type": "execute_result"
    }
   ],
   "source": [
    "len(mydatasets)"
   ]
  },
  {
   "cell_type": "code",
   "execution_count": 10,
   "id": "fcc5c6ec",
   "metadata": {
    "ExecuteTime": {
     "end_time": "2024-02-07T12:15:55.689405Z",
     "start_time": "2024-02-07T12:15:55.679176Z"
    }
   },
   "outputs": [
    {
     "data": {
      "text/plain": [
       "dict"
      ]
     },
     "execution_count": 10,
     "metadata": {},
     "output_type": "execute_result"
    }
   ],
   "source": [
    "type(mydatasets)"
   ]
  },
  {
   "cell_type": "markdown",
   "id": "e42cef32",
   "metadata": {},
   "source": [
    "As you can see the Catalog API is returning a dictionary, where each dataset ID is a key and the object is giving you all the descriptions.\\\n",
    "This can be a bit of a pain to handle because you are not sure what is the ID of the dataset yet.\\\n",
    "For that reason the data attribute is automatically created when the `getDatasets` method is being executed."
   ]
  },
  {
   "cell_type": "markdown",
   "id": "e744cee8",
   "metadata": {},
   "source": [
    "The `data` attributes will contain 3 keys for dictionaries:\n",
    "* ids : The table will be name of the dataset and its ID. (key is dataset name)\n",
    "* schema_ref : the table will be name of the dataset and its schema reference (key is dataset name)\n",
    "* table_names : the table will be the name of the dataset and its table name for Query Service (key is the dataset name)"
   ]
  },
  {
   "cell_type": "markdown",
   "id": "7509d8f6",
   "metadata": {},
   "source": [
    "By knowing the name of a dataset name, you can access its `id` easily with the following selector"
   ]
  },
  {
   "cell_type": "code",
   "execution_count": 15,
   "id": "c150dcf8",
   "metadata": {
    "ExecuteTime": {
     "end_time": "2024-02-07T12:21:23.411096Z",
     "start_time": "2024-02-07T12:21:23.406501Z"
    }
   },
   "outputs": [
    {
     "data": {
      "text/plain": [
       "'6059fd4fc52f8819484a7c1c'"
      ]
     },
     "execution_count": 15,
     "metadata": {},
     "output_type": "execute_result"
    }
   ],
   "source": [
    "myCatalog.data.ids['datanalyst 1']"
   ]
  },
  {
   "cell_type": "markdown",
   "id": "7ffe5065",
   "metadata": {},
   "source": [
    "The same can be used for the `schena_ref` or `table_names`"
   ]
  },
  {
   "cell_type": "markdown",
   "id": "8030f687",
   "metadata": {},
   "source": [
    "# Get batches"
   ]
  },
  {
   "cell_type": "markdown",
   "id": "77f62821",
   "metadata": {},
   "source": [
    "Analysing oyur batches can provide you with important information regarding the data ingested in your system.\\\n",
    "The batch analysis is limited by default, and the same way that it is for dataset, it is returning a dictionary.\\\n",
    "If you wish certain batch for certain dataset, you can use one of the parameter available on the getBatches method. "
   ]
  },
  {
   "cell_type": "markdown",
   "id": "a085fb25",
   "metadata": {},
   "source": [
    "You can always analyse the possible parameters of a method with the `help` function, such as"
   ]
  },
  {
   "cell_type": "code",
   "execution_count": 16,
   "id": "2563c329",
   "metadata": {
    "ExecuteTime": {
     "end_time": "2024-02-07T13:46:53.530812Z",
     "start_time": "2024-02-07T13:46:53.505553Z"
    }
   },
   "outputs": [
    {
     "name": "stdout",
     "output_type": "stream",
     "text": [
      "Help on method getBatches in module aepp.catalog:\n",
      "\n",
      "getBatches(limit: int = 10, n_results: int = None, output: str = 'raw', **kwargs) -> Union[pandas.core.frame.DataFrame, dict] method of aepp.catalog.Catalog instance\n",
      "    Retrieve a list of batches.\n",
      "    Arguments:\n",
      "        limit : Limit response to a specified positive number of objects. Ex. limit=10 (max = 100)\n",
      "        n_results : OPTIONAL :  number of result you want to get in total. (will loop - \"inf\" to get as many as possible)\n",
      "        output : OPTIONAL : Can be \"raw\" response (dict) or \"dataframe\".\n",
      "    Possible kwargs:\n",
      "        created : Filter by the Unix timestamp (in milliseconds) when this object was persisted.\n",
      "        createdAfter : Exclusively filter records created after this timestamp. \n",
      "        createdBefore : Exclusively filter records created before this timestamp.\n",
      "        start : Returns results from a specific offset of objects. This was previously called offset. (see next line)\n",
      "            offset : Will offset to the next limit (sort of pagination)        \n",
      "        updated : Filter by the Unix timestamp (in milliseconds) for the time of last modification.\n",
      "        createdUser : Filter by the ID of the user who created this object.\n",
      "        dataSet : Used to filter on the related object: &dataSet=dataSetId.\n",
      "        version : Filter by Semantic version of the account. Updated when the object is modified.\n",
      "        status : Filter by the current (mutable) status of the batch.\n",
      "        orderBy : Sort parameter and direction for sorting the response. \n",
      "            Ex. orderBy=asc:created,updated. This was previously called sort.\n",
      "        properties : A comma separated whitelist of top-level object properties to be returned in the response. \n",
      "            Used to cut down the number of properties and amount of data returned in the response bodies.\n",
      "        size : The number of bytes processed in the batch.\n",
      "    # /Batches/get_batch\n",
      "    more details : https://www.adobe.io/apis/experienceplatform/home/api-reference.html\n",
      "\n"
     ]
    }
   ],
   "source": [
    "help(myCatalog.getBatches)"
   ]
  },
  {
   "cell_type": "markdown",
   "id": "83a51112",
   "metadata": {},
   "source": [
    "It provides the complete docstring that has been documented when creating this method."
   ]
  },
  {
   "cell_type": "markdown",
   "id": "6db2830f",
   "metadata": {},
   "source": [
    "To get only the batches that have been ingested by a specific dataset, you can use the following call: "
   ]
  },
  {
   "cell_type": "code",
   "execution_count": 24,
   "id": "7af07e1d",
   "metadata": {
    "ExecuteTime": {
     "end_time": "2024-02-07T15:24:13.143012Z",
     "start_time": "2024-02-07T15:23:52.460855Z"
    }
   },
   "outputs": [],
   "source": [
    "lastBatches = myCatalog.getBatches(dataSet=\"6059fd4fc52f8819484a7c1c\",orderBy=\"desc:created\")"
   ]
  },
  {
   "cell_type": "code",
   "execution_count": 25,
   "id": "ca679922",
   "metadata": {
    "ExecuteTime": {
     "end_time": "2024-02-07T15:24:13.150849Z",
     "start_time": "2024-02-07T15:24:13.145819Z"
    }
   },
   "outputs": [
    {
     "data": {
      "text/plain": [
       "10"
      ]
     },
     "execution_count": 25,
     "metadata": {},
     "output_type": "execute_result"
    }
   ],
   "source": [
    "len(lastBatches)"
   ]
  },
  {
   "cell_type": "markdown",
   "id": "0bcad2c6",
   "metadata": {},
   "source": [
    "By default, it will retrieve 10 batches, if there are as much, you can always increase the `limit`, up to 100, but 100 us the max of batch you can get per request, after that, you would need to play with the `n_results parameter`."
   ]
  },
  {
   "cell_type": "code",
   "execution_count": 27,
   "id": "0ff7e7c4",
   "metadata": {
    "ExecuteTime": {
     "end_time": "2024-02-07T15:27:08.199069Z",
     "start_time": "2024-02-07T15:27:08.194107Z"
    }
   },
   "outputs": [
    {
     "data": {
      "text/plain": [
       "{'status': 'success',\n",
       " 'tags': {'acp_stagePath': ['acp_foundation_stream/stage/01HP1Z0A9YZ733QCJN6AXCATHF'],\n",
       "  'acp_sloPolicyName': ['live10Mb'],\n",
       "  'aep/siphon/partitions/paths': [],\n",
       "  'acp_finalized_time': ['1707316152942'],\n",
       "  'acp_workflow': ['ValveWorkflow'],\n",
       "  'numberOfDSFs': ['0'],\n",
       "  'acp_requestType': ['service'],\n",
       "  'acp_latencyTargetInMillis': ['300000'],\n",
       "  'acp_dataSetViewId': ['6059fd4fc52f8819484a7c1d'],\n",
       "  'acp_type': ['ingest'],\n",
       "  'siphon/valve/stage/ingest': ['{\"id\":\"41664670acb24a32abea8716db0eeb6c\",\"status\":\"created\",\"createdAt\":1707315913577,\"batchId\":\"01HP1Z0A9YZ733QCJN6AXCATHF\",\"imsOrg\":\"CA590B1B5D783C2A0A495E47@AdobeOrg\",\"bulkHead\":\"live\",\"service\":\"platform.siphon.ingest\",\"properties\":{}}'],\n",
       "  'siphon/valve/ingest/status': ['{\"id\":\"41664670acb24a32abea8716db0eeb6c\",\"status\":\"finished\",\"createdAt\":1707316151102,\"batchId\":\"01HP1Z0A9YZ733QCJN6AXCATHF\",\"imsOrg\":\"CA590B1B5D783C2A0A495E47@AdobeOrg\",\"bulkHead\":\"live\",\"output\":\"/acp_foundation_stream/stage/01HP1Z0A9YZ733QCJN6AXCATHF-staged/attempt-01HP1ZJ015XX4WXZA7A69YK722\",\"sandbox\":{\"sandboxId\":\"a2f3cbe0-e46f-11e9-8487-7112c1b76490\",\"sandboxName\":\"prod\"},\"properties\":{\"tableCommit\":{\"masterSnapshotId\":\"2306\"}}}'],\n",
       "  'acp_bulkHead': ['live'],\n",
       "  'acp_producer': ['acp_foundation_stream', 'aep/siphon/bi/uploadMode::'],\n",
       "  'flowId': ['397e4dda-4989-40e3-a6f5-9bb3ddb1a2d1'],\n",
       "  'acp_producer_hints': ['acp_bufferedData::true', 'acp_validatedData::true'],\n",
       "  'acp_requestId': ['u7VTdECYFIXsDk89Jv7b9Lv1P6VSNdj3'],\n",
       "  'acp_finalized': ['finalized'],\n",
       "  'shardUniqueId': ['D7DBF28F1AE208AEE6DC13660CC787C86D00474B17BB6F7D492D78E07D99E6A1'],\n",
       "  'acp_buffered': ['false'],\n",
       "  'acp_latencyMaxInMillis': ['10800000']},\n",
       " 'relatedObjects': [{'type': 'dataSet', 'id': '6059fd4fc52f8819484a7c1c'}],\n",
       " 'id': '01HP1Z0A9YZ733QCJN6AXCATHF',\n",
       " 'externalId': '01HP1Z0A9YZ733QCJN6AXCATHF',\n",
       " 'inputFormat': {'format': 'parquet'},\n",
       " 'createdUser': 'acp_foundation_stream@AdobeID',\n",
       " 'imsOrg': 'CA590B1B5D783C2A0A495E47@AdobeOrg',\n",
       " 'sandboxId': 'a2f3cbe0-e46f-11e9-8487-7112c1b76490',\n",
       " 'started': 1707315912774,\n",
       " 'metrics': {'failedRecordCount': 0,\n",
       "  'partitionCount': 0,\n",
       "  'outputByteSize': 19148,\n",
       "  'inputFileCount': 2,\n",
       "  'inputByteSize': 15443,\n",
       "  'outputRecordCount': 1,\n",
       "  'outputFileCount': 1,\n",
       "  'inputRecordCount': 1},\n",
       " 'completed': 1707316152532,\n",
       " 'errors': [],\n",
       " 'created': 1707315571139,\n",
       " 'createdClient': 'acp_foundation_push',\n",
       " 'updatedUser': 'acp_foundation_dataTracker@AdobeID',\n",
       " 'updated': 1707316152983,\n",
       " 'version': '1.0.5'}"
      ]
     },
     "execution_count": 27,
     "metadata": {},
     "output_type": "execute_result"
    }
   ],
   "source": [
    "lastBatches[list(lastBatches.keys())[1]]"
   ]
  },
  {
   "cell_type": "markdown",
   "id": "88497184",
   "metadata": {},
   "source": [
    "As you can see you can extract different information from a batch, such as: \n",
    "* status\n",
    "* dataset Id (if you do not have it already)\n",
    "* metris (ex: record count)\n",
    "* created time"
   ]
  },
  {
   "cell_type": "markdown",
   "id": "dec79e94",
   "metadata": {},
   "source": [
    "The status can have different values:\n",
    "* success\n",
    "* failed\n",
    "* staging\n",
    "* loading"
   ]
  },
  {
   "cell_type": "markdown",
   "id": "ac671951",
   "metadata": {},
   "source": [
    "# Get Observable Schema"
   ]
  },
  {
   "cell_type": "markdown",
   "id": "da12a91d",
   "metadata": {},
   "source": [
    "The observable schema is the schema that is describing the fields that are being used, have been populated for that dataset.\\\n",
    "As it is possible that your schema, used for that dataset, contains fields that are not used.\\\n",
    "Getting the observable schema allow you to know which fields has been populated on this dataset."
   ]
  },
  {
   "cell_type": "code",
   "execution_count": 28,
   "id": "1fc0eaad",
   "metadata": {
    "ExecuteTime": {
     "end_time": "2024-02-07T15:41:38.358395Z",
     "start_time": "2024-02-07T15:41:37.513916Z"
    }
   },
   "outputs": [],
   "source": [
    "danalyst_obs = myCatalog.getDataSetObservableSchema(\"6059fd4fc52f8819484a7c1c\")"
   ]
  },
  {
   "cell_type": "markdown",
   "id": "98daba4c",
   "metadata": {},
   "source": [
    "## Observable Schema Manager"
   ]
  },
  {
   "cell_type": "markdown",
   "id": "a64b8e57",
   "metadata": {},
   "source": [
    "The same way that the `SchemaManager` allows you to manipulate the schema you have created, the Observable schema allows to analyse the schema that is used for the dataset.\\\n",
    "It is different than the `SchemaManager` because the schema itself does not exist, it is a subset of an existing schema, without references to Field Groups."
   ]
  },
  {
   "cell_type": "markdown",
   "id": "6f1a5783",
   "metadata": {},
   "source": [
    "You will need to pass the result of the `getDataSetObservableSchema` method to the `ObservableSchemaManager`"
   ]
  },
  {
   "cell_type": "code",
   "execution_count": 29,
   "id": "78da5b33",
   "metadata": {
    "ExecuteTime": {
     "end_time": "2024-02-07T15:44:21.899778Z",
     "start_time": "2024-02-07T15:44:21.895818Z"
    }
   },
   "outputs": [],
   "source": [
    "obs_datanalyt = catalog.ObservableSchemaManager(danalyst_obs)"
   ]
  },
  {
   "cell_type": "code",
   "execution_count": 34,
   "id": "5795d4d3",
   "metadata": {
    "ExecuteTime": {
     "end_time": "2024-02-07T15:44:58.143448Z",
     "start_time": "2024-02-07T15:44:58.134195Z"
    }
   },
   "outputs": [
    {
     "data": {
      "text/html": [
       "<div>\n",
       "<style scoped>\n",
       "    .dataframe tbody tr th:only-of-type {\n",
       "        vertical-align: middle;\n",
       "    }\n",
       "\n",
       "    .dataframe tbody tr th {\n",
       "        vertical-align: top;\n",
       "    }\n",
       "\n",
       "    .dataframe thead th {\n",
       "        text-align: right;\n",
       "    }\n",
       "</style>\n",
       "<table border=\"1\" class=\"dataframe\">\n",
       "  <thead>\n",
       "    <tr style=\"text-align: right;\">\n",
       "      <th></th>\n",
       "      <th>path</th>\n",
       "      <th>type</th>\n",
       "      <th>description</th>\n",
       "    </tr>\n",
       "  </thead>\n",
       "  <tbody>\n",
       "    <tr>\n",
       "      <th>51</th>\n",
       "      <td>_emeaconsulting.datanalyst.searchKeyword</td>\n",
       "      <td>string</td>\n",
       "      <td></td>\n",
       "    </tr>\n",
       "    <tr>\n",
       "      <th>4</th>\n",
       "      <td>environment</td>\n",
       "      <td>object</td>\n",
       "      <td>Information about the surrounding situation th...</td>\n",
       "    </tr>\n",
       "    <tr>\n",
       "      <th>21</th>\n",
       "      <td>implementationDetails.version</td>\n",
       "      <td>string</td>\n",
       "      <td>The version identifier of the API, e.g h.18.</td>\n",
       "    </tr>\n",
       "    <tr>\n",
       "      <th>16</th>\n",
       "      <td>environment.ipV4</td>\n",
       "      <td>string</td>\n",
       "      <td>The numerical label assigned to a device parti...</td>\n",
       "    </tr>\n",
       "    <tr>\n",
       "      <th>57</th>\n",
       "      <td>marketing.campaignGroup</td>\n",
       "      <td>string</td>\n",
       "      <td>Name of the campaign group where multiple camp...</td>\n",
       "    </tr>\n",
       "  </tbody>\n",
       "</table>\n",
       "</div>"
      ],
      "text/plain": [
       "                                        path    type  \\\n",
       "51  _emeaconsulting.datanalyst.searchKeyword  string   \n",
       "4                                environment  object   \n",
       "21             implementationDetails.version  string   \n",
       "16                          environment.ipV4  string   \n",
       "57                   marketing.campaignGroup  string   \n",
       "\n",
       "                                          description  \n",
       "51                                                     \n",
       "4   Information about the surrounding situation th...  \n",
       "21       The version identifier of the API, e.g h.18.  \n",
       "16  The numerical label assigned to a device parti...  \n",
       "57  Name of the campaign group where multiple camp...  "
      ]
     },
     "execution_count": 34,
     "metadata": {},
     "output_type": "execute_result"
    }
   ],
   "source": [
    "obs_datanalyt.to_dataframe(description=True).sample(5)"
   ]
  },
  {
   "cell_type": "markdown",
   "id": "cdd95a7d",
   "metadata": {},
   "source": [
    "You can see above the result that can be derived from it, so you can compare with the schema reference used and see how many fields, defined in your schema, are not used."
   ]
  },
  {
   "cell_type": "markdown",
   "id": "feb6a4d4",
   "metadata": {},
   "source": [
    "**NOTE** : The observable schema is defined during ingestion time. It means that any field that has been ingested at least once will be marked as observable. Even if you only ingested data once. "
   ]
  },
  {
   "cell_type": "markdown",
   "id": "78c3e21c",
   "metadata": {},
   "source": [
    "# Extracting Batch data"
   ]
  },
  {
   "cell_type": "markdown",
   "id": "fb55bbf1",
   "metadata": {},
   "source": [
    "If you want to download the data from a batch, you can use the `Catalog` service and the `Data Access API`.\\\n",
    "We will not deep dive on the Data Access API, but it is necessary to use this API to read data from the lake directly. "
   ]
  },
  {
   "cell_type": "code",
   "execution_count": 36,
   "id": "73c1eeb7",
   "metadata": {
    "ExecuteTime": {
     "end_time": "2024-02-07T15:50:59.885496Z",
     "start_time": "2024-02-07T15:50:59.043956Z"
    }
   },
   "outputs": [],
   "source": [
    "from aepp import dataaccess\n",
    "myAccess = dataaccess.DataAccess(config=prod)## passing the same configuration"
   ]
  },
  {
   "cell_type": "markdown",
   "id": "2957514a",
   "metadata": {},
   "source": [
    "You will need to know which batch ID you want to extract."
   ]
  },
  {
   "cell_type": "code",
   "execution_count": 37,
   "id": "ea81e3e1",
   "metadata": {
    "ExecuteTime": {
     "end_time": "2024-02-07T15:51:44.162010Z",
     "start_time": "2024-02-07T15:51:35.444154Z"
    }
   },
   "outputs": [
    {
     "data": {
      "text/plain": [
       "[{'dataSetFileId': '01HP1Z0A9YZ733QCJN6AXCATHF-DE1',\n",
       "  'isValid': False,\n",
       "  '_links': {'self': {'href': 'https://platform.adobe.io:443/data/foundation/export/files/01HP1Z0A9YZ733QCJN6AXCATHF-DE1'}}}]"
      ]
     },
     "execution_count": 37,
     "metadata": {},
     "output_type": "execute_result"
    }
   ],
   "source": [
    "myAccess.getBatchFiles('01HP1Z0A9YZ733QCJN6AXCATHF') ##passing the batch ID"
   ]
  },
  {
   "cell_type": "markdown",
   "id": "3bdadeae",
   "metadata": {},
   "source": [
    "You will received a `dataSetFileId` that can be used on the `getFiles`"
   ]
  },
  {
   "cell_type": "code",
   "execution_count": 38,
   "id": "0f7026c8",
   "metadata": {
    "ExecuteTime": {
     "end_time": "2024-02-07T15:53:04.740625Z",
     "start_time": "2024-02-07T15:52:51.824018Z"
    }
   },
   "outputs": [
    {
     "data": {
      "text/plain": [
       "{'data': [{'name': 'attempt-01HP24BE2D8WBV5P9SH3ECXA0H_part-00000-f3bcbf29-ba01-44a3-a3cb-0982b69b4dad-c000.snappy.parquet',\n",
       "   'length': '17396',\n",
       "   '_links': {'self': {'href': 'https://platform.adobe.io:443/data/foundation/export/files/01HP1Z0A9YZ733QCJN6AXCATHF-DE1?path=attempt-01HP24BE2D8WBV5P9SH3ECXA0H_part-00000-f3bcbf29-ba01-44a3-a3cb-0982b69b4dad-c000.snappy.parquet'}}}],\n",
       " '_page': {'limit': 100, 'count': 1}}"
      ]
     },
     "execution_count": 38,
     "metadata": {},
     "output_type": "execute_result"
    }
   ],
   "source": [
    "myAccess.getFiles('01HP1Z0A9YZ733QCJN6AXCATHF-DE1')"
   ]
  },
  {
   "cell_type": "markdown",
   "id": "d7e5318c",
   "metadata": {},
   "source": [
    "This will return a path that can be used to download the exact file\\\n",
    "This path can be used in the API call than before, with a new parameter. "
   ]
  },
  {
   "cell_type": "code",
   "execution_count": 39,
   "id": "890b4ab2",
   "metadata": {
    "ExecuteTime": {
     "end_time": "2024-02-07T15:54:06.515624Z",
     "start_time": "2024-02-07T15:53:53.895376Z"
    }
   },
   "outputs": [],
   "source": [
    "data = myAccess.getFiles('01HP1Z0A9YZ733QCJN6AXCATHF-DE1',path='attempt-01HP24BE2D8WBV5P9SH3ECXA0H_part-00000-f3bcbf29-ba01-44a3-a3cb-0982b69b4dad-c000.snappy.parquet')"
   ]
  },
  {
   "cell_type": "markdown",
   "id": "e424ab96",
   "metadata": {},
   "source": [
    "Once the data has been received, you can then use it with `pandas` and `read_parquet`"
   ]
  },
  {
   "cell_type": "code",
   "execution_count": 40,
   "id": "77eb3c35",
   "metadata": {
    "ExecuteTime": {
     "end_time": "2024-02-07T15:54:32.881600Z",
     "start_time": "2024-02-07T15:54:32.878611Z"
    }
   },
   "outputs": [],
   "source": [
    "import pandas as pd"
   ]
  },
  {
   "cell_type": "code",
   "execution_count": 41,
   "id": "b3f2fbcd",
   "metadata": {
    "ExecuteTime": {
     "end_time": "2024-02-07T15:54:39.304094Z",
     "start_time": "2024-02-07T15:54:39.141260Z"
    }
   },
   "outputs": [],
   "source": [
    "df = pd.read_parquet(data)"
   ]
  },
  {
   "cell_type": "code",
   "execution_count": 42,
   "id": "c1169828",
   "metadata": {
    "ExecuteTime": {
     "end_time": "2024-02-07T15:54:42.945976Z",
     "start_time": "2024-02-07T15:54:42.931046Z"
    }
   },
   "outputs": [
    {
     "data": {
      "text/html": [
       "<div>\n",
       "<style scoped>\n",
       "    .dataframe tbody tr th:only-of-type {\n",
       "        vertical-align: middle;\n",
       "    }\n",
       "\n",
       "    .dataframe tbody tr th {\n",
       "        vertical-align: top;\n",
       "    }\n",
       "\n",
       "    .dataframe thead th {\n",
       "        text-align: right;\n",
       "    }\n",
       "</style>\n",
       "<table border=\"1\" class=\"dataframe\">\n",
       "  <thead>\n",
       "    <tr style=\"text-align: right;\">\n",
       "      <th></th>\n",
       "      <th>_emeaconsulting</th>\n",
       "      <th>device</th>\n",
       "      <th>environment</th>\n",
       "      <th>implementationDetails</th>\n",
       "      <th>placeContext</th>\n",
       "      <th>timestamp</th>\n",
       "      <th>identityMap</th>\n",
       "      <th>marketing</th>\n",
       "      <th>web</th>\n",
       "      <th>eventType</th>\n",
       "      <th>_id</th>\n",
       "    </tr>\n",
       "  </thead>\n",
       "  <tbody>\n",
       "    <tr>\n",
       "      <th>0</th>\n",
       "      <td>{'datanalyst': {'pageSubCategory': 'xdm-the-ul...</td>\n",
       "      <td>{'screenOrientation': 'landscape', 'screenHeig...</td>\n",
       "      <td>{'type': 'browser', 'browserDetails': {'viewpo...</td>\n",
       "      <td>{'environment': 'browser', 'name': 'https://ns...</td>\n",
       "      <td>{'localTimezoneOffset': -330, 'localTime': 202...</td>\n",
       "      <td>2024-02-07 14:13:45.717000+00:00</td>\n",
       "      <td>[(ECID, [{'authenticatedState': 'ambiguous', '...</td>\n",
       "      <td>{'trackingCode': '', 'campaignGroup': None, 'c...</td>\n",
       "      <td>{'webPageDetails': {'URL': 'https://www.datana...</td>\n",
       "      <td>web.webpagedetails.pageViews\\t</td>\n",
       "      <td>b9e4d850-dda4-49c7-af09-c0aa27e7210a-0</td>\n",
       "    </tr>\n",
       "  </tbody>\n",
       "</table>\n",
       "</div>"
      ],
      "text/plain": [
       "                                     _emeaconsulting  \\\n",
       "0  {'datanalyst': {'pageSubCategory': 'xdm-the-ul...   \n",
       "\n",
       "                                              device  \\\n",
       "0  {'screenOrientation': 'landscape', 'screenHeig...   \n",
       "\n",
       "                                         environment  \\\n",
       "0  {'type': 'browser', 'browserDetails': {'viewpo...   \n",
       "\n",
       "                               implementationDetails  \\\n",
       "0  {'environment': 'browser', 'name': 'https://ns...   \n",
       "\n",
       "                                        placeContext  \\\n",
       "0  {'localTimezoneOffset': -330, 'localTime': 202...   \n",
       "\n",
       "                         timestamp  \\\n",
       "0 2024-02-07 14:13:45.717000+00:00   \n",
       "\n",
       "                                         identityMap  \\\n",
       "0  [(ECID, [{'authenticatedState': 'ambiguous', '...   \n",
       "\n",
       "                                           marketing  \\\n",
       "0  {'trackingCode': '', 'campaignGroup': None, 'c...   \n",
       "\n",
       "                                                 web  \\\n",
       "0  {'webPageDetails': {'URL': 'https://www.datana...   \n",
       "\n",
       "                        eventType                                     _id  \n",
       "0  web.webpagedetails.pageViews\\t  b9e4d850-dda4-49c7-af09-c0aa27e7210a-0  "
      ]
     },
     "execution_count": 42,
     "metadata": {},
     "output_type": "execute_result"
    }
   ],
   "source": [
    "df.head()"
   ]
  },
  {
   "cell_type": "markdown",
   "id": "7c19d656",
   "metadata": {},
   "source": [
    "You can then export the data in a JSON format.\\\n",
    "That will result in the same message that have been recorded during ingestion. "
   ]
  },
  {
   "cell_type": "code",
   "execution_count": 46,
   "id": "f1b166a1",
   "metadata": {
    "ExecuteTime": {
     "end_time": "2024-02-07T15:56:11.264896Z",
     "start_time": "2024-02-07T15:56:11.257914Z"
    }
   },
   "outputs": [
    {
     "data": {
      "text/plain": [
       "[{'_emeaconsulting': {'datanalyst': {'pageSubCategory': 'xdm-the-ultimate-guide',\n",
       "    'postLength': '24787',\n",
       "    'searchKeyword': '',\n",
       "    'pageCategory': 'adobe-experience-platform',\n",
       "    'postTitle': 'XDM Schemas: The ultimate guide | Datanalyst',\n",
       "    'returningVisitor': False}},\n",
       "  'device': {'screenOrientation': 'landscape',\n",
       "   'screenHeight': 720,\n",
       "   'screenWidth': 1280},\n",
       "  'environment': {'type': 'browser',\n",
       "   'browserDetails': {'viewportHeight': 598,\n",
       "    'viewportWidth': 1257,\n",
       "    'userAgent': 'Mozilla/5.0 (Windows NT 10.0; Win64; x64) AppleWebKit/537.36 (KHTML, like Gecko) Chrome/121.0.0.0 Safari/537.36 Edg/121.0.0.0',\n",
       "    'userAgentClientHints': {'platform': 'Windows',\n",
       "     'brands': array([{'brand': 'Not A(Brand', 'version': '99'},\n",
       "            {'brand': 'Microsoft Edge', 'version': '121'},\n",
       "            {'brand': 'Chromium', 'version': '121'}], dtype=object),\n",
       "     'mobile': False}},\n",
       "   'ipV4': '223.190.82.15',\n",
       "   'ipV6': None},\n",
       "  'implementationDetails': {'environment': 'browser',\n",
       "   'name': 'https://ns.adobe.com/experience/alloy',\n",
       "   'version': '2.12.0'},\n",
       "  'placeContext': {'localTimezoneOffset': -330,\n",
       "   'localTime': datetime.datetime(2024, 2, 7, 14, 13, 45, 716000, tzinfo=<UTC>),\n",
       "   'geo': {'stateProvince': 'IN-HR',\n",
       "    '_schema': {'latitude': 28.48, 'longitude': 77.06},\n",
       "    'countryCode': 'IN',\n",
       "    'city': None}},\n",
       "  'timestamp': Timestamp('2024-02-07 14:13:45.717000+0000', tz='UTC'),\n",
       "  'identityMap': [('ECID',\n",
       "    array([{'authenticatedState': 'ambiguous', 'id': '27516454656437959686882722180807398550', 'primary': True}],\n",
       "          dtype=object))],\n",
       "  'marketing': {'trackingCode': '',\n",
       "   'campaignGroup': None,\n",
       "   'campaignName': None},\n",
       "  'web': {'webPageDetails': {'URL': 'https://www.datanalyst.info/adobe-experience-platform/xdm-the-ultimate-guide/'},\n",
       "   'webReferrer': {'URL': 'https://www.google.com/'},\n",
       "   'webInteraction': None},\n",
       "  'eventType': 'web.webpagedetails.pageViews\\t',\n",
       "  '_id': 'b9e4d850-dda4-49c7-af09-c0aa27e7210a-0'}]"
      ]
     },
     "execution_count": 46,
     "metadata": {},
     "output_type": "execute_result"
    }
   ],
   "source": [
    "df.to_dict(orient='records')"
   ]
  },
  {
   "cell_type": "code",
   "execution_count": null,
   "id": "f125c55f",
   "metadata": {},
   "outputs": [],
   "source": []
  }
 ],
 "metadata": {
  "kernelspec": {
   "display_name": "Python 3 (ipykernel)",
   "language": "python",
   "name": "python3"
  },
  "language_info": {
   "codemirror_mode": {
    "name": "ipython",
    "version": 3
   },
   "file_extension": ".py",
   "mimetype": "text/x-python",
   "name": "python",
   "nbconvert_exporter": "python",
   "pygments_lexer": "ipython3",
   "version": "3.11.4"
  },
  "toc": {
   "base_numbering": 1,
   "nav_menu": {},
   "number_sections": true,
   "sideBar": true,
   "skip_h1_title": false,
   "title_cell": "Table of Contents",
   "title_sidebar": "Contents",
   "toc_cell": true,
   "toc_position": {},
   "toc_section_display": true,
   "toc_window_display": true
  }
 },
 "nbformat": 4,
 "nbformat_minor": 5
}

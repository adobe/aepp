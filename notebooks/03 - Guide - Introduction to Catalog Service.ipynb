{
 "cells": [
  {
   "cell_type": "markdown",
   "id": "f35220b6",
   "metadata": {
    "toc": true
   },
   "source": [
    "<h1>Table of Contents<span class=\"tocSkip\"></span></h1>\n",
    "<div class=\"toc\"><ul class=\"toc-item\"><li><span><a href=\"#The-Catalog-Service-API\" data-toc-modified-id=\"The-Catalog-Service-API-1\"><span class=\"toc-item-num\">1&nbsp;&nbsp;</span>The Catalog Service API</a></span></li><li><span><a href=\"#Importing-the-configuration-file\" data-toc-modified-id=\"Importing-the-configuration-file-2\"><span class=\"toc-item-num\">2&nbsp;&nbsp;</span>Importing the configuration file</a></span></li><li><span><a href=\"#Catalog-Module\" data-toc-modified-id=\"Catalog-Module-3\"><span class=\"toc-item-num\">3&nbsp;&nbsp;</span>Catalog Module</a></span></li><li><span><a href=\"#Get-Datasets\" data-toc-modified-id=\"Get-Datasets-4\"><span class=\"toc-item-num\">4&nbsp;&nbsp;</span>Get Datasets</a></span></li></ul></div>"
   ]
  },
  {
   "cell_type": "code",
   "execution_count": 1,
   "id": "3d8b0fd6",
   "metadata": {
    "ExecuteTime": {
     "end_time": "2024-02-07T07:23:08.719413Z",
     "start_time": "2024-02-07T07:23:07.165403Z"
    }
   },
   "outputs": [],
   "source": [
    "import aepp\n",
    "from aepp import catalog"
   ]
  },
  {
   "cell_type": "markdown",
   "id": "d8370a84",
   "metadata": {},
   "source": [
    "# The Catalog Service API"
   ]
  },
  {
   "cell_type": "markdown",
   "id": "052f540a",
   "metadata": {},
   "source": [
    "The Catalog API is a service that would help investigating the data lake catalog that is available.\\\n",
    "In the Catalog API, you can access the datasets or the batches that are ingested in your organization.\\\n",
    "Catalog is the system of record for data location and lineage within Adobe Experience Platform.\\ Catalog Service does not contain the actual files or directories that contain the data. Instead, it holds the metadata and description of those files and directories.\n",
    "\n",
    "Catalog acts as a metadata store or \"catalog\" where you can find information about your data within Experience Platform.\n",
    "\n",
    "Use Catalog to answer the following questions: \n",
    "* Where is my data located? \n",
    "* At what stage of processing is this data? \n",
    "* What systems or processes have acted on my data? \n",
    "* What errors occurred during processing? \n",
    "* If successful, how much data was processed?"
   ]
  },
  {
   "cell_type": "markdown",
   "id": "c371cd53",
   "metadata": {},
   "source": [
    "# Importing the configuration file"
   ]
  },
  {
   "cell_type": "markdown",
   "id": "85cbe5d8",
   "metadata": {},
   "source": [
    "The complete explanation on how to prepare the config file the can be found on the first template of this serie.\\\n",
    "If you want to understand how you can prepare the file used, you can either read the first template of this serie, or read the [getting started](https://github.com/adobe/aepp/blob/main/docs/getting-started.md) page of the aepp module in github."
   ]
  },
  {
   "cell_type": "code",
   "execution_count": 2,
   "id": "ced25bf7",
   "metadata": {
    "ExecuteTime": {
     "end_time": "2024-02-07T12:03:22.055308Z",
     "start_time": "2024-02-07T12:03:22.032343Z"
    }
   },
   "outputs": [],
   "source": [
    "import aepp\n",
    "prod = aepp.importConfigFile('myconfigFile.json',sandbox='prod',connectInstance=True)"
   ]
  },
  {
   "cell_type": "markdown",
   "id": "fb5c9030",
   "metadata": {},
   "source": [
    "# Catalog Module"
   ]
  },
  {
   "cell_type": "markdown",
   "id": "60adc79a",
   "metadata": {},
   "source": [
    "You can instantiate the `Catalog` module with the config parameter once you have loaded your configuration. "
   ]
  },
  {
   "cell_type": "code",
   "execution_count": 3,
   "id": "f1e6a500",
   "metadata": {
    "ExecuteTime": {
     "end_time": "2024-02-07T12:04:44.507080Z",
     "start_time": "2024-02-07T12:04:44.502430Z"
    }
   },
   "outputs": [],
   "source": [
    "from aepp import catalog"
   ]
  },
  {
   "cell_type": "markdown",
   "id": "8b145952",
   "metadata": {},
   "source": [
    "Each sub module has a class to instantiate in order to create the API connection with the service, in this case, the Catalog API. The instantiation will generate a token for the API connection and takes care of generating a new one if needed.\\\n",
    "It will also connect you with the API in the sandbox provided in the config file, or in the variable used during the import of the config file (can be seen in this example). "
   ]
  },
  {
   "cell_type": "code",
   "execution_count": 4,
   "id": "e9759562",
   "metadata": {
    "ExecuteTime": {
     "end_time": "2024-02-07T12:10:20.047305Z",
     "start_time": "2024-02-07T12:09:58.209042Z"
    }
   },
   "outputs": [],
   "source": [
    "myCatalog = catalog.Catalog(config=prod)"
   ]
  },
  {
   "cell_type": "markdown",
   "id": "63bf6f25",
   "metadata": {},
   "source": [
    "The class has several data attribute that can be useful to you.\n",
    "* sandbox : It will provide you which sandbox is connected to this instance\n",
    "* header : In case you want to copy the header to other application (ex: POSTMAN)\n",
    "* data : it will provide some dictionaries once you have ran the `getDatasets()` method"
   ]
  },
  {
   "cell_type": "code",
   "execution_count": 5,
   "id": "5d115fa5",
   "metadata": {
    "ExecuteTime": {
     "end_time": "2024-02-07T12:10:38.428687Z",
     "start_time": "2024-02-07T12:10:38.421748Z"
    }
   },
   "outputs": [
    {
     "data": {
      "text/plain": [
       "'prod'"
      ]
     },
     "execution_count": 5,
     "metadata": {},
     "output_type": "execute_result"
    }
   ],
   "source": [
    "myCatalog.sandbox"
   ]
  },
  {
   "cell_type": "markdown",
   "id": "bc0e06ee",
   "metadata": {},
   "source": [
    "# Get Datasets"
   ]
  },
  {
   "cell_type": "markdown",
   "id": "8ccd6794",
   "metadata": {},
   "source": [
    "One use-case from the Catalog API is to retrieve the list of datasets.\\\n",
    "You can realize this task by using the `getDatasets` method."
   ]
  },
  {
   "cell_type": "code",
   "execution_count": 7,
   "id": "76b5656c",
   "metadata": {
    "ExecuteTime": {
     "end_time": "2024-02-07T12:15:38.076991Z",
     "start_time": "2024-02-07T12:15:35.389195Z"
    }
   },
   "outputs": [],
   "source": [
    "mydatasets = myCatalog.getDataSets()"
   ]
  },
  {
   "cell_type": "code",
   "execution_count": 8,
   "id": "9439c75d",
   "metadata": {
    "ExecuteTime": {
     "end_time": "2024-02-07T12:15:41.129654Z",
     "start_time": "2024-02-07T12:15:41.124667Z"
    }
   },
   "outputs": [
    {
     "data": {
      "text/plain": [
       "155"
      ]
     },
     "execution_count": 8,
     "metadata": {},
     "output_type": "execute_result"
    }
   ],
   "source": [
    "len(mydatasets)"
   ]
  },
  {
   "cell_type": "code",
   "execution_count": 10,
   "id": "c6230490",
   "metadata": {
    "ExecuteTime": {
     "end_time": "2024-02-07T12:15:55.689405Z",
     "start_time": "2024-02-07T12:15:55.679176Z"
    }
   },
   "outputs": [
    {
     "data": {
      "text/plain": [
       "dict"
      ]
     },
     "execution_count": 10,
     "metadata": {},
     "output_type": "execute_result"
    }
   ],
   "source": [
    "type(mydatasets)"
   ]
  },
  {
   "cell_type": "markdown",
   "id": "815cf9ef",
   "metadata": {},
   "source": [
    "As you can see the Catalog API is returning a dictionary, where each dataset ID is a key and the object is giving you all the descriptions.\\\n",
    "This can be a bit of a pain to handle because you are not sure what is the ID of the dataset yet.\\\n",
    "For that reason the data attribute is automatically created when the `getDatasets` method is being executed."
   ]
  },
  {
   "cell_type": "markdown",
   "id": "29391656",
   "metadata": {},
   "source": [
    "The `data` attributes will contain 3 keys for dictionaries:\n",
    "* ids : The table will be name of the dataset and its ID. (key is dataset name)\n",
    "* schema_ref : the table will be name of the dataset and its schema reference (key is dataset name)\n",
    "* table_names : the table will be the name of the dataset and its table name for Query Service (key is the dataset name)"
   ]
  },
  {
   "cell_type": "markdown",
   "id": "72a6b872",
   "metadata": {},
   "source": [
    "By knowing the name of a dataset name, you can access its `id` easily with the following selector"
   ]
  },
  {
   "cell_type": "code",
   "execution_count": 15,
   "id": "4a4846f6",
   "metadata": {
    "ExecuteTime": {
     "end_time": "2024-02-07T12:21:23.411096Z",
     "start_time": "2024-02-07T12:21:23.406501Z"
    }
   },
   "outputs": [
    {
     "data": {
      "text/plain": [
       "'6059fd4fc52f8819484a7c1c'"
      ]
     },
     "execution_count": 15,
     "metadata": {},
     "output_type": "execute_result"
    }
   ],
   "source": [
    "myCatalog.data.ids['datanalyst 1']"
   ]
  },
  {
   "cell_type": "markdown",
   "id": "bed1a980",
   "metadata": {},
   "source": [
    "The same can be used for the `schena_ref` or `table_names`"
   ]
  },
  {
   "cell_type": "code",
   "execution_count": null,
   "id": "f08d58ba",
   "metadata": {},
   "outputs": [],
   "source": []
  },
  {
   "cell_type": "code",
   "execution_count": null,
   "id": "6b43b83a",
   "metadata": {},
   "outputs": [],
   "source": []
  }
 ],
 "metadata": {
  "kernelspec": {
   "display_name": "Python 3 (ipykernel)",
   "language": "python",
   "name": "python3"
  },
  "language_info": {
   "codemirror_mode": {
    "name": "ipython",
    "version": 3
   },
   "file_extension": ".py",
   "mimetype": "text/x-python",
   "name": "python",
   "nbconvert_exporter": "python",
   "pygments_lexer": "ipython3",
   "version": "3.11.4"
  },
  "toc": {
   "base_numbering": 1,
   "nav_menu": {},
   "number_sections": true,
   "sideBar": true,
   "skip_h1_title": false,
   "title_cell": "Table of Contents",
   "title_sidebar": "Contents",
   "toc_cell": true,
   "toc_position": {},
   "toc_section_display": true,
   "toc_window_display": true
  }
 },
 "nbformat": 4,
 "nbformat_minor": 5
}

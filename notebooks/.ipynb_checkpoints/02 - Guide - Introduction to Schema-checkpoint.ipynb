{
 "cells": [
  {
   "cell_type": "markdown",
   "id": "445a7e36",
   "metadata": {
    "toc": true
   },
   "source": [
    "<h1>Table of Contents<span class=\"tocSkip\"></span></h1>\n",
    "<div class=\"toc\"><ul class=\"toc-item\"><li><span><a href=\"#The-Schema-Registry-API\" data-toc-modified-id=\"The-Schema-Registry-API-1\"><span class=\"toc-item-num\">1&nbsp;&nbsp;</span>The Schema Registry API</a></span></li><li><span><a href=\"#Importing-the-configuration-file\" data-toc-modified-id=\"Importing-the-configuration-file-2\"><span class=\"toc-item-num\">2&nbsp;&nbsp;</span>Importing the configuration file</a></span></li><li><span><a href=\"#Schema-module\" data-toc-modified-id=\"Schema-module-3\"><span class=\"toc-item-num\">3&nbsp;&nbsp;</span>Schema module</a></span><ul class=\"toc-item\"><li><span><a href=\"#Schemas-/-Field-Groups-and-Classes\" data-toc-modified-id=\"Schemas-/-Field-Groups-and-Classes-3.1\"><span class=\"toc-item-num\">3.1&nbsp;&nbsp;</span>Schemas / Field Groups and Classes</a></span></li></ul></li></ul></div>"
   ]
  },
  {
   "cell_type": "code",
   "execution_count": 1,
   "id": "1d719029",
   "metadata": {
    "ExecuteTime": {
     "end_time": "2023-10-17T18:43:26.191761Z",
     "start_time": "2023-10-17T18:43:26.183614Z"
    }
   },
   "outputs": [],
   "source": [
    "from IPython.display import Image ## Use to display the image\n",
    "import json ## use later to demonstrate some file"
   ]
  },
  {
   "cell_type": "markdown",
   "id": "de3660f2",
   "metadata": {},
   "source": [
    "# The Schema Registry API"
   ]
  },
  {
   "cell_type": "markdown",
   "id": "081270a3",
   "metadata": {},
   "source": [
    "The Schema Registry API enable you to get, create, update or delete your XDM data representation in AEP.\\\n",
    "Most of the time, when thinking of the AEP XDM representation, you are thinking of Schema, but it could also be a `Field Group`, a `Class` or a `Data Type`.\\\n",
    "The module will be divided in 3 main parts:\n",
    "* Schema module\n",
    "* FieldGroupManager module\n",
    "* SchemaManager module"
   ]
  },
  {
   "cell_type": "markdown",
   "id": "25203a38",
   "metadata": {},
   "source": [
    "Schema are the basis of the data representation in Adobe Experience Platform, the 2 main type of schema (also called classes) for B2C customers are `IndividualProfile` and `ExperienceEvent`."
   ]
  },
  {
   "cell_type": "markdown",
   "id": "80183a1b",
   "metadata": {},
   "source": [
    "A `Schema` is also composed of different `field groups`.\\\n",
    "Technically, the schemas do not contain any fields, they contain field groups, that themselves contain the fields."
   ]
  },
  {
   "cell_type": "markdown",
   "id": "5fcd3af4",
   "metadata": {},
   "source": [
    "# Importing the configuration file"
   ]
  },
  {
   "cell_type": "markdown",
   "id": "c7da01f3",
   "metadata": {},
   "source": [
    "The complete explanation on how to prepare the config file the can be found on the first template of this serie.\\\n",
    "If you want to understand how you can prepare the file used, you can either read the first template of this serie, or read the [getting started](https://github.com/adobe/aepp/blob/main/docs/getting-started.md) page of the aepp module in github."
   ]
  },
  {
   "cell_type": "code",
   "execution_count": 4,
   "id": "29bf13c6",
   "metadata": {
    "ExecuteTime": {
     "end_time": "2023-10-17T18:43:37.908929Z",
     "start_time": "2023-10-17T18:43:37.905132Z"
    }
   },
   "outputs": [],
   "source": [
    "import aepp\n",
    "prod = aepp.importConfigFile('myconfigFile.json',sandbox='prod',connectInstance=True)"
   ]
  },
  {
   "cell_type": "markdown",
   "id": "b9501308",
   "metadata": {},
   "source": [
    "# Schema module"
   ]
  },
  {
   "cell_type": "markdown",
   "id": "2c269c7a",
   "metadata": {},
   "source": [
    "`aepp` is being divided in several sub modules, you need to know which one to use when you are working on your use-case.\\\n",
    "In our case, we will import the `schema` sub module."
   ]
  },
  {
   "cell_type": "code",
   "execution_count": 5,
   "id": "64021c02",
   "metadata": {
    "ExecuteTime": {
     "end_time": "2023-10-17T18:43:40.247632Z",
     "start_time": "2023-10-17T18:43:39.206763Z"
    }
   },
   "outputs": [],
   "source": [
    "from aepp import schema "
   ]
  },
  {
   "cell_type": "markdown",
   "id": "fa93f530",
   "metadata": {},
   "source": [
    "As you have imported the config file that has the credential for the API connection and the generation of the token, you can pass the variable that has these informations during instantiation of the main class of the sub module"
   ]
  },
  {
   "cell_type": "markdown",
   "id": "652f7398",
   "metadata": {},
   "source": [
    "Each sub module has a class to instantiate in order to create the API connection with the service, in this case, the Schema Registry API. The instantiation will generate a token for the API connection and takes care of generating a new one if needed.\\\n",
    "It will also connect you with the API in the sandbox provided in the config file, or in the variable used during the import of the config file (can be seen in this example). "
   ]
  },
  {
   "cell_type": "markdown",
   "id": "cee97cd4",
   "metadata": {},
   "source": [
    "For the `schema` sub module, it contains the `Schema` class, that you can instantiate and pass the variable in the `config` parameter."
   ]
  },
  {
   "cell_type": "code",
   "execution_count": 6,
   "id": "04779112",
   "metadata": {
    "ExecuteTime": {
     "end_time": "2023-10-17T18:43:40.877304Z",
     "start_time": "2023-10-17T18:43:40.503264Z"
    }
   },
   "outputs": [],
   "source": [
    "mySchemaAPI = schema.Schema(config=prod)"
   ]
  },
  {
   "cell_type": "markdown",
   "id": "6d8a413c",
   "metadata": {},
   "source": [
    "Once you have created the instance of the Schema class, you can use any of the endpoint and HTTP methods that are defined on the Adobe Experience Platform API documentation.\\\n",
    "Most of the methods are prefix with the following elements: \n",
    "* get : to use the GET method\n",
    "* create : to use the POST method\n",
    "* patch : to use the PATCH method and **update** a definition\n",
    "* put : to use the PUT method and **replace** a definition\n",
    "* delete : to use the DELETE method and delete a resource. "
   ]
  },
  {
   "cell_type": "markdown",
   "id": "ba35827b",
   "metadata": {},
   "source": [
    "## Schemas / Field Groups and Classes"
   ]
  },
  {
   "cell_type": "markdown",
   "id": "10cc7309",
   "metadata": {},
   "source": [
    "One common operation is to extract the existing schemas, field groups or Classes"
   ]
  },
  {
   "cell_type": "markdown",
   "id": "a333b3c2",
   "metadata": {},
   "source": [
    "To extract the schema, you can use the `getSchemas()` method"
   ]
  },
  {
   "cell_type": "code",
   "execution_count": 7,
   "id": "256737fa",
   "metadata": {
    "ExecuteTime": {
     "end_time": "2023-10-17T18:49:37.234753Z",
     "start_time": "2023-10-17T18:49:35.978432Z"
    }
   },
   "outputs": [],
   "source": [
    "mySchemas = mySchemaAPI.getSchemas()"
   ]
  },
  {
   "cell_type": "markdown",
   "id": "f67bc695",
   "metadata": {},
   "source": [
    "To get the field groups, the same operation exist"
   ]
  },
  {
   "cell_type": "code",
   "execution_count": 26,
   "id": "7f66ada4",
   "metadata": {
    "ExecuteTime": {
     "end_time": "2023-10-17T19:00:50.297170Z",
     "start_time": "2023-10-17T19:00:49.765368Z"
    }
   },
   "outputs": [],
   "source": [
    "myFGs = mySchemaAPI.getFieldGroups()"
   ]
  },
  {
   "cell_type": "markdown",
   "id": "2a5598cb",
   "metadata": {},
   "source": [
    "Note that you can also extract the global field groups that are available out of the box with any AEP sandbox.\\\n",
    "To do that, you can use the `getFieldGroupsGlobal()` method."
   ]
  },
  {
   "cell_type": "code",
   "execution_count": 9,
   "id": "564551f3",
   "metadata": {
    "ExecuteTime": {
     "end_time": "2023-10-17T18:51:20.390033Z",
     "start_time": "2023-10-17T18:51:20.196948Z"
    }
   },
   "outputs": [],
   "source": [
    "myGlobalFieldGroups = mySchemaAPI.getFieldGroupsGlobal()"
   ]
  },
  {
   "cell_type": "markdown",
   "id": "a2e0ed60",
   "metadata": {},
   "source": [
    "The custom class can be extracted directly via the getClasses"
   ]
  },
  {
   "cell_type": "code",
   "execution_count": 10,
   "id": "340ba050",
   "metadata": {
    "ExecuteTime": {
     "end_time": "2023-10-17T18:52:12.393361Z",
     "start_time": "2023-10-17T18:52:11.784530Z"
    }
   },
   "outputs": [],
   "source": [
    "myClasses = mySchemaAPI.getClasses()\n",
    "myGlobalClasses = mySchemaAPI.getClassesGlobal()"
   ]
  },
  {
   "cell_type": "markdown",
   "id": "1728a475",
   "metadata": {},
   "source": [
    "Once you have run the operations, you can look at the different results that should be mostly list of of data."
   ]
  },
  {
   "cell_type": "code",
   "execution_count": 20,
   "id": "e1de960d",
   "metadata": {
    "ExecuteTime": {
     "end_time": "2023-10-17T18:56:25.207472Z",
     "start_time": "2023-10-17T18:56:25.201890Z"
    }
   },
   "outputs": [
    {
     "data": {
      "text/plain": [
       "[{'$id': 'https://ns.adobe.com/xdm/context/segmentdefinition',\n",
       "  'meta:altId': '_xdm.context.segmentdefinition',\n",
       "  'version': '1.44.1',\n",
       "  'title': 'Segment definition'},\n",
       " {'$id': 'https://ns.adobe.com/xdm/classes/fsi/atm',\n",
       "  'meta:altId': '_xdm.classes.fsi.atm',\n",
       "  'version': '1.44.1',\n",
       "  'title': 'ATM'},\n",
       " {'$id': 'https://ns.adobe.com/xdm/classes/fsi/branch',\n",
       "  'meta:altId': '_xdm.classes.fsi.branch',\n",
       "  'version': '1.44.1',\n",
       "  'title': 'Branch'},\n",
       " {'$id': 'https://ns.adobe.com/xdm/classes/fsi/policy',\n",
       "  'meta:altId': '_xdm.classes.fsi.policy',\n",
       "  'version': '1.44.1',\n",
       "  'title': 'Policy'},\n",
       " {'$id': 'https://ns.adobe.com/xdm/context/experienceevent',\n",
       "  'meta:altId': '_xdm.context.experienceevent',\n",
       "  'version': '1.44.1',\n",
       "  'title': 'XDM ExperienceEvent'}]"
      ]
     },
     "execution_count": 20,
     "metadata": {},
     "output_type": "execute_result"
    }
   ],
   "source": [
    "myGlobalClasses[1:6]"
   ]
  },
  {
   "cell_type": "markdown",
   "id": "18a1529f",
   "metadata": {},
   "source": [
    "Using the getSchemas and getFieldGroups automatically populate some attributes that makes you finding easier for schema and field group name.\\\n",
    "4 dictionary are created in the `data` attribute of your `Schema` instance.\\\n",
    "* schema_id : dictionary {name : id}\n",
    "* schema_maltId : dictionary {name: alt:Id}\n",
    "* fielgroup_id : dictionary {name : id}\n",
    "* fieldgroup_altId : dictionary {name : alt:Id}"
   ]
  },
  {
   "cell_type": "markdown",
   "id": "6ce68daf",
   "metadata": {},
   "source": [
    "By knowing the name of your field group or schema, you can easily access its ID."
   ]
  },
  {
   "cell_type": "code",
   "execution_count": 29,
   "id": "b5a304a1",
   "metadata": {
    "ExecuteTime": {
     "end_time": "2023-10-17T19:02:20.948181Z",
     "start_time": "2023-10-17T19:02:20.943397Z"
    }
   },
   "outputs": [
    {
     "data": {
      "text/plain": [
       "'_emeaconsulting.mixins.e411477466872609e9fd46fc5d0a08fa9474ad4688724bf5'"
      ]
     },
     "execution_count": 29,
     "metadata": {},
     "output_type": "execute_result"
    }
   ],
   "source": [
    "mySchemaAPI.data.fieldGroups_altId['learningCJA']"
   ]
  },
  {
   "cell_type": "code",
   "execution_count": null,
   "id": "e8fd10a0",
   "metadata": {},
   "outputs": [],
   "source": []
  }
 ],
 "metadata": {
  "kernelspec": {
   "display_name": "Python 3 (ipykernel)",
   "language": "python",
   "name": "python3"
  },
  "language_info": {
   "codemirror_mode": {
    "name": "ipython",
    "version": 3
   },
   "file_extension": ".py",
   "mimetype": "text/x-python",
   "name": "python",
   "nbconvert_exporter": "python",
   "pygments_lexer": "ipython3",
   "version": "3.11.4"
  },
  "toc": {
   "base_numbering": 1,
   "nav_menu": {},
   "number_sections": true,
   "sideBar": true,
   "skip_h1_title": false,
   "title_cell": "Table of Contents",
   "title_sidebar": "Contents",
   "toc_cell": true,
   "toc_position": {},
   "toc_section_display": true,
   "toc_window_display": true
  }
 },
 "nbformat": 4,
 "nbformat_minor": 5
}
